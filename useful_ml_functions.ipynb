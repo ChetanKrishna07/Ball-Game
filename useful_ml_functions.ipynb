{
  "nbformat": 4,
  "nbformat_minor": 0,
  "metadata": {
    "colab": {
      "provenance": [],
      "authorship_tag": "ABX9TyPy8omiB8TPNiO4H35/SZu4",
      "include_colab_link": true
    },
    "kernelspec": {
      "name": "python3",
      "display_name": "Python 3"
    },
    "language_info": {
      "name": "python"
    }
  },
  "cells": [
    {
      "cell_type": "markdown",
      "metadata": {
        "id": "view-in-github",
        "colab_type": "text"
      },
      "source": [
        "<a href=\"https://colab.research.google.com/github/ChetanKrishna07/Ball-Game/blob/main/useful_ml_functions.ipynb\" target=\"_parent\"><img src=\"https://colab.research.google.com/assets/colab-badge.svg\" alt=\"Open In Colab\"/></a>"
      ]
    },
    {
      "cell_type": "code",
      "execution_count": null,
      "metadata": {
        "id": "Oz9m3cIAxdIT"
      },
      "outputs": [],
      "source": [
        "import tensorflow as tf\n",
        "import numpy as np\n",
        "import pandas as pd\n",
        "import matplotlib.pyplot as plt\n",
        "\n",
        "def plot_decision_boundary(model, X, y):\n",
        "  \"\"\"\n",
        "  Plots the decision boundary created by a model predicting X\n",
        "  \"\"\"\n",
        "\n",
        "  # Define the axis boundaries of the plot and create a meshgrid\n",
        "  x_min, x_max = X[:, 0].min() - 0.1, X[:,0].max() + 0.1\n",
        "  y_min, y_max = X[:, 1].min() - 0.1, X[:,1].max() + 0.1\n",
        "\n",
        "  xx, yy = np.meshgrid(np.linspace(x_min, x_max, 100),\n",
        "                       np.linspace(y_min, y_max, 100))\n",
        "\n",
        "  # Create X values\n",
        "  x_in = np.c_[xx.ravel(), yy.ravel()] # stack 2d arrays together\n",
        "\n",
        "  # Make predictions\n",
        "  y_pred = model.predict(x_in, verbose=0)\n",
        "\n",
        "  # Check for multi-class\n",
        "  if len(y_pred[0]) > 1:\n",
        "    print(\"Doing multiclass classification\")\n",
        "    y_pred = np.argmax(y_pred, axis=1).reshape(xx.shape)\n",
        "  else:\n",
        "    print(\"Doing binary classification\")\n",
        "    y_pred = np.round(y_pred).reshape(xx.shape)\n",
        "\n",
        "  # Plot\n",
        "  plt.contourf(xx, yy, y_pred, cmap=plt.cm.RdYlBu, alpha=0.7)\n",
        "  plt.scatter(X[:,0], X[:,1], c=y, s=40, cmap=plt.cm.RdYlBu)\n",
        "  plt.xlim(xx.min(), xx.max())\n",
        "  plt.ylim(yy.min(), yy.max())"
      ]
    },
    {
      "cell_type": "code",
      "source": [
        "import tensorflow as tf\n",
        "import numpy as np\n",
        "import pandas as pd\n",
        "import matplotlib.pyplot as plt\n",
        "\n",
        "def plot_history(history, title):\n",
        "  pd.DataFrame(history.history).plot()\n",
        "  plt.title(title)\n",
        "  plt.show()"
      ],
      "metadata": {
        "id": "CYFCI3_IxygG"
      },
      "execution_count": null,
      "outputs": []
    },
    {
      "cell_type": "code",
      "source": [
        "import matplotlib.pyplot as plt\n",
        "\n",
        "def learning_rate_analysis(history):\n",
        "  lrs = history.history[\"lr\"]\n",
        "  plt.semilogx(lrs, history.history[\"loss\"])\n",
        "  plt.xlabel(\"Learning  rate\")\n",
        "  plt.ylabel(\"Loss\")\n",
        "  plt.title(\"Finding the ideal learning rate\")\n",
        "  plt.show()"
      ],
      "metadata": {
        "id": "w2RZxbO9yNTV"
      },
      "execution_count": null,
      "outputs": []
    },
    {
      "cell_type": "code",
      "source": [
        "import matplotlib.pyplot as plt\n",
        "\n",
        "def plot_image(X, y, idx, classes):\n",
        "  plt.imshow(X[idx], cmap=plt.cm.binary)\n",
        "  plt.title(classes[y[idx]])\n",
        "  plt.axis(False)"
      ],
      "metadata": {
        "id": "S3yr7CQtypvq"
      },
      "execution_count": null,
      "outputs": []
    },
    {
      "cell_type": "code",
      "source": [
        "# Plot multiple random images\n",
        "def plot_random(X, y, classes):\n",
        "  import random\n",
        "  plt.figure(figsize=(10, 7))\n",
        "\n",
        "  for i in range(8):\n",
        "    ax = plt.subplot(2, 4, i + 1)\n",
        "    plot_image(X, y, random.choice(range(len(X))), classes)"
      ],
      "metadata": {
        "id": "dHGnzsHzzAla"
      },
      "execution_count": null,
      "outputs": []
    },
    {
      "cell_type": "code",
      "source": [
        "import itertools\n",
        "from sklearn.metrics import confusion_matrix\n",
        "\n",
        "def make_confusion_matrix(y_true, y_pred, classes=None, figsize=(7,7), text_size=15):\n",
        "\n",
        "  # Creating the confusion matrix\n",
        "\n",
        "  cm = confusion_matrix(y_true, y_pred)\n",
        "  cm_norm = cm.astype(\"float\") / cm.sum(axis=1)[:, np.newaxis]\n",
        "  n_classes = cm.shape[0]\n",
        "\n",
        "  # Lets prettify it\n",
        "  fig, ax = plt.subplots(figsize=figsize)\n",
        "\n",
        "  # creating matrix plot\n",
        "  cax = ax.matshow(cm, cmap=plt.cm.Blues)\n",
        "  fig.colorbar(cax)\n",
        "\n",
        "  # set labels to be classes\n",
        "  if classes:\n",
        "    labels = classes\n",
        "  else:\n",
        "    labels = np.arange(cm.shape[0])\n",
        "\n",
        "  # Labeling the axis\n",
        "  ax.set(title=\"Confusion Matrix\",\n",
        "        xlabel=\"Predicted Label\",\n",
        "        ylabel=\"True Label\",\n",
        "        xticks=np.arange(n_classes),\n",
        "        yticks=np.arange(n_classes),\n",
        "        xticklabels=labels,\n",
        "        yticklabels=labels,)\n",
        "\n",
        "  # set x-axis labels to bottom\n",
        "  ax.xaxis.set_label_position(\"bottom\")\n",
        "  ax.xaxis.tick_bottom()\n",
        "\n",
        "  # Adjust label size\n",
        "  ax.yaxis.label.set_size(text_size)\n",
        "  ax.xaxis.label.set_size(text_size)\n",
        "  ax.title.set_size(text_size)\n",
        "\n",
        "  threshold = (cm.max() + cm.min()) / 2.\n",
        "\n",
        "  for i, j in itertools.product(range(cm.shape[0]), range(cm.shape[1])):\n",
        "    plt.text(j, i, f\"{cm[i, j]} ({cm_norm[i, j]*100:.1f}%)\",\n",
        "            horizontalalignment=\"center\",\n",
        "            color=\"white\" if cm[i, j] > threshold else  \"black\",\n",
        "            size=text_size)\n"
      ],
      "metadata": {
        "id": "fRz6BCDQzL-x"
      },
      "execution_count": null,
      "outputs": []
    },
    {
      "cell_type": "code",
      "source": [
        "import random\n",
        "\n",
        "def plot_random_image_pred_true(model, images, true_labels, classes):\n",
        "  \"\"\"\n",
        "  Picks a random image, plots it and labels it with a predictions and true label.\n",
        "  \"\"\"\n",
        "\n",
        "  i = random.randint(0, len(images))\n",
        "\n",
        "  target_image = images[i]\n",
        "  pred_probs = model.predict(target_image.reshape(1, 28, 28), verbose=0)\n",
        "  pred_label = classes[pred_probs.argmax()]\n",
        "  true_label = classes[true_labels[i]]\n",
        "\n",
        "  plt.imshow(target_image, cmap=plt.cm.binary)\n",
        "\n",
        "  if pred_label == true_label:\n",
        "    color=\"green\"\n",
        "  else:\n",
        "    color=\"red\"\n",
        "\n",
        "  plt.title(\"Pred: {} {:2.0f}% (True: {})\".format(pred_label,\n",
        "                                                  100*tf.reduce_max(pred_probs),\n",
        "                                                  true_label),\n",
        "             color=color)\n",
        "  plt.axis(False)\n"
      ],
      "metadata": {
        "id": "dyeqkVOazSiN"
      },
      "execution_count": null,
      "outputs": []
    },
    {
      "cell_type": "code",
      "source": [
        "# Plot multiple random images\n",
        "def plot_multiple_preds(model, images, true_labels, classes):\n",
        "  plt.figure(figsize=(20, 7))\n",
        "\n",
        "  for i in range(8):\n",
        "    ax = plt.subplot(2, 4, i + 1)\n",
        "    plot_random_image_pred_true(model=model,\n",
        "                  images=images,\n",
        "                  true_labels=true_labels,\n",
        "                  classes=classes)\n"
      ],
      "metadata": {
        "id": "qafpcx0yzYBV"
      },
      "execution_count": null,
      "outputs": []
    }
  ]
}